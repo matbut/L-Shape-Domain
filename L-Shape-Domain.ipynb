{
 "cells": [
  {
   "cell_type": "markdown",
   "metadata": {},
   "source": [
    "# L-Shape Domain  <br> <br> Metoda elementów skończonych do rozwiązania dwuwymiarowego problemu transportu ciepła"
   ]
  },
  {
   "cell_type": "markdown",
   "metadata": {},
   "source": [
    "<img src=\"img/lShapeDomain.jpeg\" height=\"300\" width=\"300\">"
   ]
  },
  {
   "cell_type": "code",
   "execution_count": 1,
   "metadata": {},
   "outputs": [],
   "source": [
    "#wykresy inline\n",
    "%matplotlib inline\n",
    "\n",
    "from fractions import Fraction as frac\n",
    "from mpl_toolkits.mplot3d import Axes3D\n",
    "import matplotlib.pyplot as plt\n",
    "import numpy as np"
   ]
  },
  {
   "cell_type": "markdown",
   "metadata": {},
   "source": [
    "Zdefinowanie funkcji wzorcowych oraz ich wspórzędnych\n",
    "<img src=\"img/chi.jpeg\" height=\"50\"  >\n"
   ]
  },
  {
   "cell_type": "code",
   "execution_count": 2,
   "metadata": {},
   "outputs": [],
   "source": [
    "chi_1 = lambda x : 1 - x\n",
    "chi_2 = lambda x : x\n",
    "\n",
    "def psi_0(cords):\n",
    "    x,y=cords\n",
    "    return xi_1(x)*xi_1(y)\n",
    "\n",
    "def psi_1(cords):\n",
    "    x,y=cords\n",
    "    return xi_2(x)*xi_1(y)\n",
    "\n",
    "def psi_2(cords):\n",
    "    x,y=cords\n",
    "    return xi_2(x)*xi_2(y)\n",
    "\n",
    "def psi_3(cords):\n",
    "    x,y=cords\n",
    "    return xi_1(x)*xi_2(y)\n",
    "\n",
    "master_cords = { \n",
    "    3:(0,1), 2:(1,1), \n",
    "\n",
    "    0:(0,0), 1:(1,0), \n",
    "}\n",
    "psis = {\n",
    "    3:psi_3, 2:psi_2, \n",
    "    \n",
    "    0:psi_0, 1:psi_1,\n",
    "}"
   ]
  },
  {
   "cell_type": "markdown",
   "metadata": {},
   "source": [
    "Oraz pochodnych funkcji wzorcowych:"
   ]
  },
  {
   "cell_type": "code",
   "execution_count": 3,
   "metadata": {},
   "outputs": [],
   "source": [
    "prims_x={\n",
    "    0:-1,\n",
    "    1: 1,\n",
    "    2: 1, \n",
    "    3:-1, \n",
    "}\n",
    "\n",
    "prims_y={\n",
    "    0:-1,\n",
    "    1:-1,\n",
    "    2: 1,\n",
    "    3: 1,\n",
    "}\n"
   ]
  },
  {
   "cell_type": "markdown",
   "metadata": {},
   "source": [
    "Element prostokątny $E$ \n",
    "<br>\n",
    "Współrzędne lewego dolnego rogu: $x,y$\n",
    "<br>\n",
    "Długość boku: $length$\n",
    "<br>\n",
    "<br>\n",
    "Funkcje odpowiadające za mapowanie dowolnego prostokąta na prostokąt wzorcowy i odwrotnie:\n",
    "\n",
    "<ul>\n",
    "<li>from_master_into_arbitrary</li>\n",
    "<li>from_arbitrary_into_master</li>\n",
    "</ul>\n",
    "\n",
    "&chi;\n"
   ]
  },
  {
   "cell_type": "code",
   "execution_count": 19,
   "metadata": {},
   "outputs": [],
   "source": [
    "class Element(object):\n",
    "    def __init__(self, cords, length):\n",
    "        (x,y)=cords\n",
    "        self.x = x\n",
    "        self.y = y\n",
    "        self.length = length\n",
    "        \n",
    "    def __repr__(self):\n",
    "        return \"x: {self.x} y: {self.y}\"\n",
    "    \n",
    "    def from_master_into_arbitrary(self,cords):\n",
    "        (x,y)=cords\n",
    "        return self.x+self.length*x,self.y+self.length*y\n",
    "    \n",
    "    def from_arbitrary_into_master(self,cords):\n",
    "        (x,y)=cords\n",
    "        return (x-self.x)/self.length,(y-self.y)/self.length\n",
    "    \n",
    "    def from_idx_into_arbitrary(self,idx):\n",
    "        cords=master_cords[idx]\n",
    "        return self.from_master_into_arbitrary(cords)\n",
    "    \n",
    "    def get_cords(self):\n",
    "        x=self.x\n",
    "        y=self.y\n",
    "        return (x,y)\n",
    "    \n",
    "    def get_x(self):\n",
    "        return self.x\n",
    "    \n",
    "    def get_y(self):\n",
    "        return self.y \n",
    "    \n",
    "    def get_length(self):\n",
    "        return self.length\n",
    "    \n",
    "    def point_in(self,cords):\n",
    "        (x,y)=cords\n",
    "        return self.x<=x and self.x+self.length >=x and self.y<=y and self.y+self.length >=y\n",
    "    \n",
    "    def psi(idx)\n",
    "        return psis(idx)(from_idx_into_arbitrary(idx))\n",
    "\n",
    "    def psi_prim_x(idx)\n",
    "        return prims_x[idx]\n",
    "    \n",
    "    def psi_prim_y(idx)\n",
    "        return prims_y[idx]   "
   ]
  },
  {
   "cell_type": "markdown",
   "metadata": {},
   "source": [
    "Zdefiniowanie trzech bazowych podziałów:"
   ]
  },
  {
   "cell_type": "code",
   "execution_count": 20,
   "metadata": {},
   "outputs": [],
   "source": [
    "E1=Element((-1,0),1)\n",
    "E2=Element((0,0),1)\n",
    "E3=Element((0,-1),1)\n",
    "basic_partition=[E1,E2,E3]\n",
    "basic_length=1"
   ]
  },
  {
   "cell_type": "markdown",
   "metadata": {},
   "source": [
    "Funkcje wyłapujące wierzchołki należące do brzegu:"
   ]
  },
  {
   "cell_type": "code",
   "execution_count": 9,
   "metadata": {},
   "outputs": [],
   "source": [
    "def is_neumann(note):\n",
    "    (x,y)=note\n",
    "    return x==1 or x==-1 or y==1 or y==-1\n",
    "\n",
    "def is_dirichlet(note):\n",
    "    (x,y)=note\n",
    "    return (x==0 and y<=0) or (y==0 and x<=0)"
   ]
  },
  {
   "cell_type": "markdown",
   "metadata": {},
   "source": [
    "Funkcja dzieląca obszar na $3*n^2$ eementów kwadratowych"
   ]
  },
  {
   "cell_type": "code",
   "execution_count": 10,
   "metadata": {},
   "outputs": [],
   "source": [
    "def partition_into_elements(n): \n",
    "    length=frac(basic_length,n)\n",
    "    partition=[]  \n",
    "    nodes=[]\n",
    "    for Ek in basic_partition:\n",
    "        (basic_x,basic_y)=Ek.get_cords()\n",
    "        partition+=[Element((basic_x+x*length,basic_y+y*length),length) for x in range(n) for y in range(n)]\n",
    "        nodes+=[(basic_x+x*length,basic_y+y*length) for x in range(n) for y in range(n)]\n",
    "    \n",
    "    #Uzupełnienie listy wierzchołków:\n",
    "    nodes+=[(-1+x*length,1) for x in range(2*n)]\n",
    "    nodes+=[(1,1)]\n",
    "    nodes+=[(1,-1+y*length) for y in range(2*n)]        \n",
    "    \n",
    "    #Filtorowanie wierzchołków należących do brzegu:\n",
    "    neumann=list(filter(lambda node: is_neumann(node), nodes))\n",
    "    dirichlet=list(filter(lambda node: is_dirichlet(node), nodes))\n",
    "\n",
    "    return (partition,nodes,neumann,dirichlet,length)\n"
   ]
  },
  {
   "cell_type": "markdown",
   "metadata": {},
   "source": [
    "Funkcja g po przekształceniu na współrzędne kartezjańskie:"
   ]
  },
  {
   "cell_type": "code",
   "execution_count": 11,
   "metadata": {},
   "outputs": [],
   "source": [
    "def g(cords):\n",
    "    (x,y)=cords\n",
    "    return ((x)**2)**frac(1,3)"
   ]
  },
  {
   "cell_type": "markdown",
   "metadata": {},
   "source": [
    "Generowanie układu równań:"
   ]
  },
  {
   "cell_type": "code",
   "execution_count": 12,
   "metadata": {},
   "outputs": [],
   "source": [
    "def gen_coefficient_matrix(n):\n",
    "\n",
    "    #Podział na kwadraty\n",
    "    (partition,nodes,neumann,dirichlet,length) = partition_into_elements(n)\n",
    "    \n",
    "    #Macierze:\n",
    "    B = np.zeros((len(nodes),len(nodes)))\n",
    "    L = np.zeros((len(nodes),1))\n",
    "  \n",
    "    #Uzupełnianie macierzy B\n",
    "    for Ek in partition:\n",
    "        (x_cord,y_cord) = Ek.get_cords()\n",
    "    \n",
    "        #cords_center = (x_cord+length/2,y_cord=y_cord)\n",
    "        \n",
    "        for idx_i,phi_i in phis.items():\n",
    "            cords_i=Ek.from_master_into_arbitrary(mastercords[idx_i])\n",
    "            \n",
    "            for idx_j,phi_j in phis.items():\n",
    "                cords_j=Ek.from_master_into_arbitrary(mastercords[idx_j])             \n",
    "\n",
    "                B[nodes.index(cords_i),nodes.index(cords_j)]+=float(prim_x(idx_i)*prim_x(idx_j)*length**2)\n",
    "                B[nodes.index(cords_i),nodes.index(cords_j)]+=float(prim_y(idx_i)*prim_y(idx_j)*length**2)\n",
    "\n",
    "    #Uzupełnianie macierzy L\n",
    "    for Ek in partition:            \n",
    "        for idx,phi in phis.items():\n",
    "            phi_cords=Ek.from_master_into_arbitrary(mastercords[idx])\n",
    "            \n",
    "            \n",
    "            \n",
    "            #for idx1,(mx1,my1) in mastercords.items():\n",
    "            #    (mx2,my2)=mastercords[(idx1+1)%4]\n",
    "                \n",
    "            #    (ax1,ay1)=Ek.from_master_into_arbitrary((mx1,my1))\n",
    "            #    (ax2,ay2)=Ek.from_master_into_arbitrary((mx2,my2))\n",
    "                \n",
    "            #    if((ax1,ay1) in neumann and (ax2,ay2) in neumann):\n",
    "            #        m_cords_ctr=((mx1+mx2)/2,(my1+my2)/2)\n",
    "            #        a_cords_ctr=((ax1+ax2)/2,(ay1+ay2)/2)\n",
    "            #        L[nodes.index(phi_cords)]+=float(g(a_cords_ctr)*phi(m_cords_ctr)*length)\n",
    "                    \n",
    "    #Wymuszenie warunku Dirichleta\n",
    "    for e in dirichlet:\n",
    "        B[nodes.index(e),:]=0\n",
    "        B[nodes.index(e),nodes.index(e)]=1\n",
    "        L[nodes.index(e)]=0\n",
    "\n",
    "    #Rozwiązanie układu równań\n",
    "    A = np.linalg.solve(B,L)\n",
    "    \n",
    "    return A"
   ]
  },
  {
   "cell_type": "markdown",
   "metadata": {},
   "source": [
    "Funkcja drukująca wykres:"
   ]
  },
  {
   "cell_type": "code",
   "execution_count": 13,
   "metadata": {
    "scrolled": true
   },
   "outputs": [],
   "source": [
    "def gen_plot(m,samples):\n",
    "\n",
    "    (partition,nodes,neumann,dirichlet,length) = partition_into_elements(m)\n",
    "    A=gen_coefficient_matrix(m)\n",
    "    \n",
    "    \n",
    "    #Próbki\n",
    "    xs = np.linspace(-1,1,samples)\n",
    "    ys = np.linspace(-1,1,samples)\n",
    "    #Macierz wartości\n",
    "    Z = np.zeros((len(xs),len(ys)))\n",
    "\n",
    "    \n",
    "    for (i,x) in enumerate(xs):\n",
    "        for (j,y) in enumerate(ys):\n",
    "            #Szukanie elementu prostokątnego w którym znajduje się próbka\n",
    "            match_Ek = None\n",
    "            for Ek in partition:\n",
    "                if(Ek.point_in((x,y))):\n",
    "                    match_Ek = Ek\n",
    "                    break\n",
    "            if match_Ek is None:\n",
    "                continue\n",
    "            for idx,phi in phis.items():   \n",
    "                cords=Ek.from_arbitrary_into_master((x,y))\n",
    "                (xn,yn)=Ek.from_master_into_arbitrary(mastercords[idx])\n",
    "                Z[i,j] += A[nodes.index((xn,yn))]*float(phi(cords))\n",
    "\n",
    "\n",
    "    fig = plt.figure(figsize=(10, 6))\n",
    "    ax = fig.gca(projection='3d')\n",
    "\n",
    "    X,Y = np.meshgrid(xs,ys)\n",
    "    ax.plot_surface(X,Y,Z, rstride=1, cstride=1, cmap=plt.get_cmap('jet'))\n",
    "    ax.view_init(45,240)\n",
    "\n",
    "    plt.show()"
   ]
  },
  {
   "cell_type": "markdown",
   "metadata": {},
   "source": [
    "Program:"
   ]
  },
  {
   "cell_type": "code",
   "execution_count": 14,
   "metadata": {
    "scrolled": true
   },
   "outputs": [
    {
     "name": "stdout",
     "output_type": "stream",
     "text": [
      "enter number of partitions: 10\n"
     ]
    },
    {
     "ename": "NameError",
     "evalue": "name 'phis' is not defined",
     "output_type": "error",
     "traceback": [
      "\u001b[0;31m---------------------------------------------------------------------------\u001b[0m",
      "\u001b[0;31mNameError\u001b[0m                                 Traceback (most recent call last)",
      "\u001b[0;32m<ipython-input-14-232d32211b1f>\u001b[0m in \u001b[0;36m<module>\u001b[0;34m()\u001b[0m\n\u001b[1;32m      2\u001b[0m \u001b[0;31m#samples=int(input('enter number of samples: '))\u001b[0m\u001b[0;34m\u001b[0m\u001b[0;34m\u001b[0m\u001b[0m\n\u001b[1;32m      3\u001b[0m \u001b[0msamples\u001b[0m\u001b[0;34m=\u001b[0m\u001b[0;36m50\u001b[0m\u001b[0;34m\u001b[0m\u001b[0m\n\u001b[0;32m----> 4\u001b[0;31m \u001b[0mgen_plot\u001b[0m\u001b[0;34m(\u001b[0m\u001b[0mpartitions_num\u001b[0m\u001b[0;34m,\u001b[0m\u001b[0msamples\u001b[0m\u001b[0;34m)\u001b[0m\u001b[0;34m\u001b[0m\u001b[0m\n\u001b[0m",
      "\u001b[0;32m<ipython-input-13-019bd0f8f524>\u001b[0m in \u001b[0;36mgen_plot\u001b[0;34m(m, samples)\u001b[0m\n\u001b[1;32m      2\u001b[0m \u001b[0;34m\u001b[0m\u001b[0m\n\u001b[1;32m      3\u001b[0m     \u001b[0;34m(\u001b[0m\u001b[0mpartition\u001b[0m\u001b[0;34m,\u001b[0m\u001b[0mnodes\u001b[0m\u001b[0;34m,\u001b[0m\u001b[0mneumann\u001b[0m\u001b[0;34m,\u001b[0m\u001b[0mdirichlet\u001b[0m\u001b[0;34m,\u001b[0m\u001b[0mlength\u001b[0m\u001b[0;34m)\u001b[0m \u001b[0;34m=\u001b[0m \u001b[0mpartition_into_elements\u001b[0m\u001b[0;34m(\u001b[0m\u001b[0mm\u001b[0m\u001b[0;34m)\u001b[0m\u001b[0;34m\u001b[0m\u001b[0m\n\u001b[0;32m----> 4\u001b[0;31m     \u001b[0mA\u001b[0m\u001b[0;34m=\u001b[0m\u001b[0mgen_coefficient_matrix\u001b[0m\u001b[0;34m(\u001b[0m\u001b[0mm\u001b[0m\u001b[0;34m)\u001b[0m\u001b[0;34m\u001b[0m\u001b[0m\n\u001b[0m\u001b[1;32m      5\u001b[0m \u001b[0;34m\u001b[0m\u001b[0m\n\u001b[1;32m      6\u001b[0m \u001b[0;34m\u001b[0m\u001b[0m\n",
      "\u001b[0;32m<ipython-input-12-e9c32958fe21>\u001b[0m in \u001b[0;36mgen_coefficient_matrix\u001b[0;34m(n)\u001b[0m\n\u001b[1;32m     14\u001b[0m         \u001b[0;31m#cords_center = (x_cord+length/2,y_cord=y_cord)\u001b[0m\u001b[0;34m\u001b[0m\u001b[0;34m\u001b[0m\u001b[0m\n\u001b[1;32m     15\u001b[0m \u001b[0;34m\u001b[0m\u001b[0m\n\u001b[0;32m---> 16\u001b[0;31m         \u001b[0;32mfor\u001b[0m \u001b[0midx_i\u001b[0m\u001b[0;34m,\u001b[0m\u001b[0mphi_i\u001b[0m \u001b[0;32min\u001b[0m \u001b[0mphis\u001b[0m\u001b[0;34m.\u001b[0m\u001b[0mitems\u001b[0m\u001b[0;34m(\u001b[0m\u001b[0;34m)\u001b[0m\u001b[0;34m:\u001b[0m\u001b[0;34m\u001b[0m\u001b[0m\n\u001b[0m\u001b[1;32m     17\u001b[0m             \u001b[0mcords_i\u001b[0m\u001b[0;34m=\u001b[0m\u001b[0mEk\u001b[0m\u001b[0;34m.\u001b[0m\u001b[0mfrom_master_into_arbitrary\u001b[0m\u001b[0;34m(\u001b[0m\u001b[0mmastercords\u001b[0m\u001b[0;34m[\u001b[0m\u001b[0midx_i\u001b[0m\u001b[0;34m]\u001b[0m\u001b[0;34m)\u001b[0m\u001b[0;34m\u001b[0m\u001b[0m\n\u001b[1;32m     18\u001b[0m \u001b[0;34m\u001b[0m\u001b[0m\n",
      "\u001b[0;31mNameError\u001b[0m: name 'phis' is not defined"
     ]
    }
   ],
   "source": [
    "partitions_num=int(input('enter number of partitions: '))\n",
    "#samples=int(input('enter number of samples: '))\n",
    "samples=50\n",
    "gen_plot(partitions_num,samples)\n"
   ]
  },
  {
   "cell_type": "code",
   "execution_count": null,
   "metadata": {},
   "outputs": [],
   "source": []
  }
 ],
 "metadata": {
  "kernelspec": {
   "display_name": "Python 3",
   "language": "python",
   "name": "python3"
  },
  "language_info": {
   "codemirror_mode": {
    "name": "ipython",
    "version": 3
   },
   "file_extension": ".py",
   "mimetype": "text/x-python",
   "name": "python",
   "nbconvert_exporter": "python",
   "pygments_lexer": "ipython3",
   "version": "3.5.2"
  }
 },
 "nbformat": 4,
 "nbformat_minor": 2
}
